{
  "nbformat": 4,
  "nbformat_minor": 0,
  "metadata": {
    "colab": {
      "provenance": []
    },
    "kernelspec": {
      "name": "python3",
      "display_name": "Python 3"
    },
    "language_info": {
      "name": "python"
    }
  },
  "cells": [
    {
      "cell_type": "markdown",
      "source": [
        "# Feed-forward Neural Network"
      ],
      "metadata": {
        "id": "34q10eNigIXN"
      }
    },
    {
      "cell_type": "code",
      "source": [
        "import pandas as pd\n",
        "df = pd.read_csv(\"creditcard.csv\")"
      ],
      "metadata": {
        "id": "10Sj7iWegUuF"
      },
      "execution_count": null,
      "outputs": []
    },
    {
      "cell_type": "code",
      "source": [
        "import os\n",
        "import pandas as pd\n",
        "import numpy as np\n",
        "import math\n",
        "import sys\n",
        "import time\n",
        "import pickle\n",
        "import json\n",
        "import datetime\n",
        "import random\n",
        "import sklearn\n",
        "from sklearn import *\n",
        "import matplotlib\n",
        "import matplotlib.pyplot as plt\n",
        "import seaborn as sns\n",
        "import graphviz\n",
        "import xgboost\n",
        "import imblearn\n",
        "import warnings\n",
        "get_ipython().run_line_magic('matplotlib', 'inline')\n",
        "sns.set_style('darkgrid', {'axes.facecolor': '0.9'})\n",
        "warnings.filterwarnings('ignore')"
      ],
      "metadata": {
        "id": "axjFwdhmeA9d"
      },
      "execution_count": null,
      "outputs": []
    },
    {
      "cell_type": "code",
      "source": [
        "def scaleData(train,test,features):\n",
        "    scaler = sklearn.preprocessing.StandardScaler()\n",
        "    scaler.fit(train[features])\n",
        "    train[features]=scaler.transform(train[features])\n",
        "    test[features]=scaler.transform(test[features])\n",
        "    return (train,test)"
      ],
      "metadata": {
        "id": "Ht8MB9K9PsgL"
      },
      "execution_count": null,
      "outputs": []
    },
    {
      "cell_type": "code",
      "source": [
        "import torch\n",
        "SEED = 42\n",
        "def seed_everything(seed):\n",
        "    random.seed(seed)\n",
        "    os.environ['PYTHONHASHSEED'] = str(seed)\n",
        "    np.random.seed(seed)\n",
        "    torch.manual_seed(seed)\n",
        "    torch.cuda.manual_seed(seed)\n",
        "    torch.backends.cudnn.deterministic = True\n",
        "    torch.backends.cudnn.benchmark = True\n",
        "seed_everything(SEED)"
      ],
      "metadata": {
        "id": "wO5fZ5mWglRk"
      },
      "execution_count": null,
      "outputs": []
    },
    {
      "cell_type": "markdown",
      "source": [
        "Split data with the input features"
      ],
      "metadata": {
        "id": "ueHVvGK_hmMu"
      }
    },
    {
      "cell_type": "code",
      "source": [
        "from sklearn.model_selection import train_test_split\n",
        "from sklearn.preprocessing import StandardScaler\n",
        "import pandas as pd\n",
        "import numpy as np\n",
        "\n",
        "input_features = ['V' + str(i) for i in range(1, 29)] + ['Time', 'Amount']\n",
        "output_feature = 'Class'\n",
        "\n",
        "X = df[input_features]\n",
        "y = df[output_feature]\n",
        "X_train, X_test, y_train, y_test = train_test_split(X, y, test_size=0.2, random_state=42, stratify=y)\n",
        "\n",
        "smote = SMOTE(random_state=42)\n",
        "X_train_smote, y_train_smote = smote.fit_resample(X_train, y_train)\n",
        "\n",
        "scaler = StandardScaler()\n",
        "\n",
        "features_to_scale = ['Time', 'Amount'] if 'Time' and 'Amount' in df.columns else ['Amount']\n",
        "X_train_smote[features_to_scale] = scaler.fit_transform(X_train_smote[features_to_scale])\n",
        "X_test[features_to_scale] = scaler.transform(X_test[features_to_scale])"
      ],
      "metadata": {
        "id": "_U3s8qgJg4Ji"
      },
      "execution_count": null,
      "outputs": []
    },
    {
      "cell_type": "code",
      "source": [
        "import torch\n",
        "x_train = torch.FloatTensor(X_train[input_features].values)\n",
        "x_test = torch.FloatTensor(X_test[input_features].values)\n",
        "y_train = torch.FloatTensor(y_train.values)\n",
        "y_test = torch.FloatTensor(y_test.values)"
      ],
      "metadata": {
        "id": "0ErOoujbgt-1"
      },
      "execution_count": null,
      "outputs": []
    },
    {
      "cell_type": "code",
      "source": [
        "class FraudDataset(torch.utils.data.Dataset):\n",
        "\n",
        "    def __init__(self, x, y):\n",
        "        'Initialization'\n",
        "        self.x = x\n",
        "        self.y = y\n",
        "\n",
        "    def __len__(self):\n",
        "        'Returns the total number of samples'\n",
        "        return len(self.x)\n",
        "\n",
        "    def __getitem__(self, index):\n",
        "        'Generates one sample of data'\n",
        "        if self.y is not None:\n",
        "            return self.x[index].to(DEVICE), self.y[index].to(DEVICE)\n",
        "        else:\n",
        "            return self.x[index].to(DEVICE)"
      ],
      "metadata": {
        "id": "jat5n_xHiWp-"
      },
      "execution_count": null,
      "outputs": []
    },
    {
      "cell_type": "code",
      "source": [
        "train_loader_params = {'batch_size': 64,\n",
        "          'shuffle': True,\n",
        "          'num_workers': 0}\n",
        "test_loader_params = {'batch_size': 64,\n",
        "          'num_workers': 0}\n",
        "\n",
        "training_set = FraudDataset(x_train, y_train)\n",
        "testing_set = FraudDataset(x_test, y_test)\n",
        "\n",
        "training_generator = torch.utils.data.DataLoader(training_set, **train_loader_params)\n",
        "testing_generator = torch.utils.data.DataLoader(testing_set, **test_loader_params)"
      ],
      "metadata": {
        "id": "M_FAQK_UiY1U"
      },
      "execution_count": null,
      "outputs": []
    },
    {
      "cell_type": "code",
      "source": [
        "class SimpleFraudMLP(torch.nn.Module):\n",
        "\n",
        "        def __init__(self, input_size, hidden_size):\n",
        "            super(SimpleFraudMLP, self).__init__()\n",
        "            self.input_size = input_size\n",
        "            self.hidden_size  = hidden_size\n",
        "\n",
        "            self.fc1 = torch.nn.Linear(self.input_size, self.hidden_size)\n",
        "            self.relu = torch.nn.ReLU()\n",
        "            self.fc2 = torch.nn.Linear(self.hidden_size, 1)\n",
        "            self.sigmoid = torch.nn.Sigmoid()\n",
        "\n",
        "        def forward(self, x):\n",
        "\n",
        "            hidden = self.fc1(x)\n",
        "            relu = self.relu(hidden)\n",
        "            output = self.fc2(relu)\n",
        "            output = self.sigmoid(output)\n",
        "\n",
        "            return output"
      ],
      "metadata": {
        "id": "-tNTnltOjzKq"
      },
      "execution_count": null,
      "outputs": []
    },
    {
      "cell_type": "code",
      "source": [
        "if torch.cuda.is_available():\n",
        "    DEVICE = \"cuda\"\n",
        "else:\n",
        "    DEVICE = \"cpu\"\n",
        "print(\"Selected device is\",DEVICE)"
      ],
      "metadata": {
        "colab": {
          "base_uri": "https://localhost:8080/"
        },
        "id": "wS8Tw_3FwZpk",
        "outputId": "233ba2a2-04b7-43cb-8254-1f9409e1212d"
      },
      "execution_count": null,
      "outputs": [
        {
          "output_type": "stream",
          "name": "stdout",
          "text": [
            "Selected device is cpu\n"
          ]
        }
      ]
    },
    {
      "cell_type": "code",
      "source": [
        "model = SimpleFraudMLP(len(input_features), 1000).to(DEVICE)"
      ],
      "metadata": {
        "id": "l1YGb5bIj2g4"
      },
      "execution_count": null,
      "outputs": []
    },
    {
      "cell_type": "markdown",
      "source": [
        "The optimizer and the training loop"
      ],
      "metadata": {
        "id": "d7Hfa0Az3Kcs"
      }
    },
    {
      "cell_type": "code",
      "source": [
        "criterion = torch.nn.BCELoss().to(DEVICE)"
      ],
      "metadata": {
        "id": "ys1wRF9Dj4Nl"
      },
      "execution_count": null,
      "outputs": []
    },
    {
      "cell_type": "code",
      "source": [
        "model.eval()"
      ],
      "metadata": {
        "colab": {
          "base_uri": "https://localhost:8080/"
        },
        "id": "CNGbKBlJj5hX",
        "outputId": "efb84bea-f096-441e-b764-8b0c4b103da0"
      },
      "execution_count": null,
      "outputs": [
        {
          "output_type": "execute_result",
          "data": {
            "text/plain": [
              "SimpleFraudMLP(\n",
              "  (fc1): Linear(in_features=30, out_features=1000, bias=True)\n",
              "  (relu): ReLU()\n",
              "  (fc2): Linear(in_features=1000, out_features=1, bias=True)\n",
              "  (sigmoid): Sigmoid()\n",
              ")"
            ]
          },
          "metadata": {},
          "execution_count": 21
        }
      ]
    },
    {
      "cell_type": "code",
      "source": [
        "def evaluate_model(model,generator,criterion):\n",
        "    model.eval()\n",
        "    batch_losses = []\n",
        "    for x_batch, y_batch in generator:\n",
        "        y_pred = model(x_batch)\n",
        "        loss = criterion(y_pred.squeeze(), y_batch)\n",
        "        batch_losses.append(loss.item())\n",
        "    mean_loss = np.mean(batch_losses)\n",
        "    return mean_loss\n",
        "\n",
        "evaluate_model(model,testing_generator,criterion)"
      ],
      "metadata": {
        "colab": {
          "base_uri": "https://localhost:8080/"
        },
        "id": "vI2F9lz5j8EI",
        "outputId": "39f6a223-c5eb-4284-dfd4-067535237efa"
      },
      "execution_count": null,
      "outputs": [
        {
          "output_type": "execute_result",
          "data": {
            "text/plain": [
              "0.7998435073830061"
            ]
          },
          "metadata": {},
          "execution_count": 22
        }
      ]
    },
    {
      "cell_type": "code",
      "source": [
        "optimizer = torch.optim.SGD(model.parameters(), lr = 0.07)"
      ],
      "metadata": {
        "id": "uXlzpMyuj93k"
      },
      "execution_count": null,
      "outputs": []
    },
    {
      "cell_type": "code",
      "source": [
        "n_epochs = 150\n",
        "model.train()\n",
        "\n",
        "start_time=time.time()\n",
        "epochs_train_losses = []\n",
        "epochs_test_losses = []\n",
        "for epoch in range(n_epochs):\n",
        "    model.train()\n",
        "    train_loss=[]\n",
        "    for x_batch, y_batch in training_generator:\n",
        "        optimizer.zero_grad()\n",
        "        y_pred = model(x_batch)\n",
        "        loss = criterion(y_pred.squeeze(), y_batch)\n",
        "        loss.backward()\n",
        "        optimizer.step()\n",
        "        train_loss.append(loss.item())\n",
        "\n",
        "    epochs_train_losses.append(np.mean(train_loss))\n",
        "    print('Epoch {}: train loss: {}'.format(epoch, np.mean(train_loss)))\n",
        "\n",
        "    val_loss = evaluate_model(model,testing_generator,criterion)\n",
        "    epochs_test_losses.append(val_loss)\n",
        "    print('test loss: {}'.format(val_loss))\n",
        "    print(\"\")\n",
        "\n",
        "training_execution_time=time.time()-start_time"
      ],
      "metadata": {
        "colab": {
          "base_uri": "https://localhost:8080/"
        },
        "id": "3rGB3fULj_uU",
        "outputId": "0d55d9ce-4cd1-4f40-8cbd-4f0468379864"
      },
      "execution_count": null,
      "outputs": [
        {
          "output_type": "stream",
          "name": "stdout",
          "text": [
            "Epoch 0: train loss: 0.0089937586839179\n",
            "test loss: 0.005332497170624322\n",
            "\n",
            "Epoch 1: train loss: 0.004050397195080165\n",
            "test loss: 0.00517435158178193\n",
            "\n",
            "Epoch 2: train loss: 0.0035810930369943373\n",
            "test loss: 0.003128299109895654\n",
            "\n",
            "Epoch 3: train loss: 0.0034387980245796164\n",
            "test loss: 0.003123536521866988\n",
            "\n",
            "Epoch 4: train loss: 0.0032376620058073655\n",
            "test loss: 0.002837328908887708\n",
            "\n",
            "Epoch 5: train loss: 0.0030447870656688156\n",
            "test loss: 0.0031133644792477847\n",
            "\n",
            "Epoch 6: train loss: 0.0028896565019350747\n",
            "test loss: 0.0029720816513562395\n",
            "\n",
            "Epoch 7: train loss: 0.0028880086891213764\n",
            "test loss: 0.0032752909565040805\n",
            "\n",
            "Epoch 8: train loss: 0.0027260799945609876\n",
            "test loss: 0.003274039328554943\n",
            "\n",
            "Epoch 9: train loss: 0.002622555855935408\n",
            "test loss: 0.0027802591113284527\n",
            "\n",
            "Epoch 10: train loss: 0.002595912989475819\n",
            "test loss: 0.0033462840263496856\n",
            "\n",
            "Epoch 11: train loss: 0.0025380799868947577\n",
            "test loss: 0.0026613224158930767\n",
            "\n",
            "Epoch 12: train loss: 0.002508823627645338\n",
            "test loss: 0.0027336356699775447\n",
            "\n",
            "Epoch 13: train loss: 0.002382950358217602\n",
            "test loss: 0.00265078935963103\n",
            "\n",
            "Epoch 14: train loss: 0.0022491811078281633\n",
            "test loss: 0.002741660615182994\n",
            "\n",
            "Epoch 15: train loss: 0.002334529633792233\n",
            "test loss: 0.002666696917963231\n",
            "\n",
            "Epoch 16: train loss: 0.002280276388880176\n",
            "test loss: 0.0025555093896800786\n",
            "\n",
            "Epoch 17: train loss: 0.0021634835755383356\n",
            "test loss: 0.0026162709648526634\n",
            "\n",
            "Epoch 18: train loss: 0.002200757705651177\n",
            "test loss: 0.002786948596177046\n",
            "\n",
            "Epoch 19: train loss: 0.002163727490930761\n",
            "test loss: 0.006027860771239459\n",
            "\n",
            "Epoch 20: train loss: 0.002120820874329297\n",
            "test loss: 0.0030672415956037495\n",
            "\n",
            "Epoch 21: train loss: 0.0020653078278970788\n",
            "test loss: 0.002604953359531945\n",
            "\n",
            "Epoch 22: train loss: 0.0020720023497825114\n",
            "test loss: 0.002916613268663944\n",
            "\n",
            "Epoch 23: train loss: 0.0021326146585914883\n",
            "test loss: 0.002742968367586754\n",
            "\n",
            "Epoch 24: train loss: 0.0020148699035765823\n",
            "test loss: 0.002526989630918839\n",
            "\n",
            "Epoch 25: train loss: 0.0018874438477056116\n",
            "test loss: 0.002707062712308387\n",
            "\n",
            "Epoch 26: train loss: 0.0020163738113088705\n",
            "test loss: 0.0024989885326919987\n",
            "\n",
            "Epoch 27: train loss: 0.0020007371116743107\n",
            "test loss: 0.0027948466200065918\n",
            "\n",
            "Epoch 28: train loss: 0.0018687965343571538\n",
            "test loss: 0.00268896276327715\n",
            "\n",
            "Epoch 29: train loss: 0.0018396063890645546\n",
            "test loss: 0.0025266897124059965\n",
            "\n",
            "Epoch 30: train loss: 0.0018217651176446331\n",
            "test loss: 0.0026961114321489817\n",
            "\n",
            "Epoch 31: train loss: 0.0018541048866624668\n",
            "test loss: 0.0027459843886359823\n",
            "\n",
            "Epoch 32: train loss: 0.001825384148474317\n",
            "test loss: 0.002453335230655531\n",
            "\n",
            "Epoch 33: train loss: 0.0018415144040563726\n",
            "test loss: 0.0027036214150561806\n",
            "\n",
            "Epoch 34: train loss: 0.0017388173427383706\n",
            "test loss: 0.0026844409652140608\n",
            "\n",
            "Epoch 35: train loss: 0.001739670903084862\n",
            "test loss: 0.0024119523963364747\n",
            "\n",
            "Epoch 36: train loss: 0.001835087161675177\n",
            "test loss: 0.002433812855077828\n",
            "\n",
            "Epoch 37: train loss: 0.0017510862011601129\n",
            "test loss: 0.0026020784848416367\n",
            "\n",
            "Epoch 38: train loss: 0.0017299198761346981\n",
            "test loss: 0.0027312758182633803\n",
            "\n",
            "Epoch 39: train loss: 0.00196320105013944\n",
            "test loss: 0.004219701799656046\n",
            "\n",
            "Epoch 40: train loss: 0.0016825383194039943\n",
            "test loss: 0.0025903185251510315\n",
            "\n",
            "Epoch 41: train loss: 0.0015996173744800776\n",
            "test loss: 0.0025488102379827666\n",
            "\n",
            "Epoch 42: train loss: 0.0015663882644361817\n",
            "test loss: 0.0025102649072902172\n",
            "\n",
            "Epoch 43: train loss: 0.001678348574610424\n",
            "test loss: 0.002555494050965169\n",
            "\n",
            "Epoch 44: train loss: 0.0016251667735794465\n",
            "test loss: 0.0029165337367044407\n",
            "\n",
            "Epoch 45: train loss: 0.0016445136327891674\n",
            "test loss: 0.0025042676369135797\n",
            "\n",
            "Epoch 46: train loss: 0.001562151522161308\n",
            "test loss: 0.0025506487380320174\n",
            "\n",
            "Epoch 47: train loss: 0.0014870412157780557\n",
            "test loss: 0.0025491705090614643\n",
            "\n",
            "Epoch 48: train loss: 0.0015450732284579575\n",
            "test loss: 0.0025496809410757576\n",
            "\n",
            "Epoch 49: train loss: 0.001454866940976074\n",
            "test loss: 0.0030890706131071377\n",
            "\n",
            "Epoch 50: train loss: 0.0014738493484717451\n",
            "test loss: 0.002472739961946229\n",
            "\n",
            "Epoch 51: train loss: 0.001432489728173975\n",
            "test loss: 0.0025484797498810654\n",
            "\n",
            "Epoch 52: train loss: 0.0014447875376039914\n",
            "test loss: 0.0025014378069868294\n",
            "\n",
            "Epoch 53: train loss: 0.0014857057237578166\n",
            "test loss: 0.003040965813111311\n",
            "\n",
            "Epoch 54: train loss: 0.0014715137689090042\n",
            "test loss: 0.0026174488662704908\n",
            "\n",
            "Epoch 55: train loss: 0.0014596610661814383\n",
            "test loss: 0.002594592587750879\n",
            "\n",
            "Epoch 56: train loss: 0.0013644298733823243\n",
            "test loss: 0.002613933873379171\n",
            "\n",
            "Epoch 57: train loss: 0.0013955890915185484\n",
            "test loss: 0.0026103198621358356\n",
            "\n",
            "Epoch 58: train loss: 0.0013253704844660406\n",
            "test loss: 0.0025754953196449816\n",
            "\n",
            "Epoch 59: train loss: 0.0013502363581940832\n",
            "test loss: 0.002653417468944948\n",
            "\n",
            "Epoch 60: train loss: 0.0013857196925077836\n",
            "test loss: 0.0045701691981762825\n",
            "\n",
            "Epoch 61: train loss: 0.0013706416494087843\n",
            "test loss: 0.002668072965922653\n",
            "\n",
            "Epoch 62: train loss: 0.0012920835611725096\n",
            "test loss: 0.0026522746824336487\n",
            "\n",
            "Epoch 63: train loss: 0.0013514405895034267\n",
            "test loss: 0.004455802436969646\n",
            "\n",
            "Epoch 64: train loss: 0.001299978511011259\n",
            "test loss: 0.0026344652132609006\n",
            "\n",
            "Epoch 65: train loss: 0.0012602565813882715\n",
            "test loss: 0.0027282420975898196\n",
            "\n",
            "Epoch 66: train loss: 0.0012586796010997537\n",
            "test loss: 0.0026847152274876965\n",
            "\n",
            "Epoch 67: train loss: 0.0012188968303508297\n",
            "test loss: 0.0028662980562917566\n",
            "\n",
            "Epoch 68: train loss: 0.0013201688106790506\n",
            "test loss: 0.0025485622512192996\n",
            "\n",
            "Epoch 69: train loss: 0.001266902596548134\n",
            "test loss: 0.002517383120763261\n",
            "\n",
            "Epoch 70: train loss: 0.0012991458361118445\n",
            "test loss: 0.0026348083021728377\n",
            "\n",
            "Epoch 71: train loss: 0.0011903023192344113\n",
            "test loss: 0.00260236639844701\n",
            "\n",
            "Epoch 72: train loss: 0.0013052101138795772\n",
            "test loss: 0.0026807954757548085\n",
            "\n",
            "Epoch 73: train loss: 0.0012808798879819843\n",
            "test loss: 0.0026025608142923756\n",
            "\n",
            "Epoch 74: train loss: 0.0011674939036790254\n",
            "test loss: 0.0026577969813635868\n",
            "\n",
            "Epoch 75: train loss: 0.00118505438132048\n",
            "test loss: 0.0026415270772186823\n",
            "\n",
            "Epoch 76: train loss: 0.001314440791542243\n",
            "test loss: 0.0026726259619813397\n",
            "\n",
            "Epoch 77: train loss: 0.0011643603336360699\n",
            "test loss: 0.002706300176848317\n",
            "\n",
            "Epoch 78: train loss: 0.0011592749995091717\n",
            "test loss: 0.0027635879173997543\n",
            "\n",
            "Epoch 79: train loss: 0.001150827192918213\n",
            "test loss: 0.0027125052012735456\n",
            "\n",
            "Epoch 80: train loss: 0.0011115958212205004\n",
            "test loss: 0.002693491643372351\n",
            "\n",
            "Epoch 81: train loss: 0.0012388348316689705\n",
            "test loss: 0.0028239508833317654\n",
            "\n",
            "Epoch 82: train loss: 0.0013309724937572605\n",
            "test loss: 0.002921179567655631\n",
            "\n",
            "Epoch 83: train loss: 0.00126678122708454\n",
            "test loss: 0.004413068573316406\n",
            "\n",
            "Epoch 84: train loss: 0.0013019948085198421\n",
            "test loss: 0.0066431996041415664\n",
            "\n",
            "Epoch 85: train loss: 0.0011318288560044144\n",
            "test loss: 0.002777556491651905\n",
            "\n",
            "Epoch 86: train loss: 0.0010772550279287685\n",
            "test loss: 0.0027611634473047922\n",
            "\n",
            "Epoch 87: train loss: 0.0010459192061653153\n",
            "test loss: 0.002783306699798594\n",
            "\n",
            "Epoch 88: train loss: 0.0010402525344216944\n",
            "test loss: 0.002813767094858989\n",
            "\n",
            "Epoch 89: train loss: 0.0010536760376812812\n",
            "test loss: 0.0028530404556645576\n",
            "\n",
            "Epoch 90: train loss: 0.0010193240807627357\n",
            "test loss: 0.0027669989754924283\n",
            "\n",
            "Epoch 91: train loss: 0.0010334348599450925\n",
            "test loss: 0.002767401157810022\n",
            "\n",
            "Epoch 92: train loss: 0.0010394543370941369\n",
            "test loss: 0.0028673258916064193\n",
            "\n",
            "Epoch 93: train loss: 0.0010295944441385963\n",
            "test loss: 0.002741289830571131\n",
            "\n",
            "Epoch 94: train loss: 0.0010415808848716751\n",
            "test loss: 0.0028561773414807\n",
            "\n",
            "Epoch 95: train loss: 0.001063266444574695\n",
            "test loss: 0.00263072736593146\n",
            "\n",
            "Epoch 96: train loss: 0.0014983979890964652\n",
            "test loss: 0.004470223774730986\n",
            "\n",
            "Epoch 97: train loss: 0.0010202855103435288\n",
            "test loss: 0.002784636754927382\n",
            "\n",
            "Epoch 98: train loss: 0.0009879082920821896\n",
            "test loss: 0.004404521901306528\n",
            "\n",
            "Epoch 99: train loss: 0.0011064157058446036\n",
            "test loss: 0.002946010249082082\n",
            "\n",
            "Epoch 100: train loss: 0.000965499995442124\n",
            "test loss: 0.002644971474383035\n",
            "\n",
            "Epoch 101: train loss: 0.0011110240384885363\n",
            "test loss: 0.002788870403159416\n",
            "\n",
            "Epoch 102: train loss: 0.0009882394487217587\n",
            "test loss: 0.0027948688648730576\n",
            "\n",
            "Epoch 103: train loss: 0.0009268399391654957\n",
            "test loss: 0.0028782636046628916\n",
            "\n",
            "Epoch 104: train loss: 0.0009824943979103897\n",
            "test loss: 0.004486610012465685\n",
            "\n",
            "Epoch 105: train loss: 0.0011211531339002279\n",
            "test loss: 0.002793822098274085\n",
            "\n",
            "Epoch 106: train loss: 0.0009094772928515982\n",
            "test loss: 0.003034950727979132\n",
            "\n",
            "Epoch 107: train loss: 0.0009309500006543976\n",
            "test loss: 0.0028503168715237003\n",
            "\n",
            "Epoch 108: train loss: 0.0009262593398255421\n",
            "test loss: 0.002875986597863641\n",
            "\n",
            "Epoch 109: train loss: 0.0009128893933400962\n",
            "test loss: 0.002942252790907364\n",
            "\n",
            "Epoch 110: train loss: 0.0009395624615673698\n",
            "test loss: 0.0028620667136828918\n",
            "\n",
            "Epoch 111: train loss: 0.0009142399152846909\n",
            "test loss: 0.0029713092582056566\n",
            "\n",
            "Epoch 112: train loss: 0.0009148838858970315\n",
            "test loss: 0.0029449262058791623\n",
            "\n",
            "Epoch 113: train loss: 0.0008792744826616437\n",
            "test loss: 0.0028791989485412806\n",
            "\n",
            "Epoch 114: train loss: 0.0008598200593470918\n",
            "test loss: 0.0029228887592054886\n",
            "\n",
            "Epoch 115: train loss: 0.000860915905044449\n",
            "test loss: 0.002902014187260827\n",
            "\n",
            "Epoch 116: train loss: 0.000843884851220746\n",
            "test loss: 0.004438074617031485\n",
            "\n",
            "Epoch 117: train loss: 0.0008665643236132779\n",
            "test loss: 0.004595355737448728\n",
            "\n",
            "Epoch 118: train loss: 0.0008440750530910925\n",
            "test loss: 0.004410295477634446\n",
            "\n",
            "Epoch 119: train loss: 0.0008360119075239735\n",
            "test loss: 0.004612289998088739\n",
            "\n",
            "Epoch 120: train loss: 0.0011128068688569049\n",
            "test loss: 0.008851345562530486\n",
            "\n",
            "Epoch 121: train loss: 0.0009825619461521903\n",
            "test loss: 0.0029162532333699615\n",
            "\n",
            "Epoch 122: train loss: 0.0008597144024158081\n",
            "test loss: 0.0030238242011788106\n",
            "\n",
            "Epoch 123: train loss: 0.0008205474567336719\n",
            "test loss: 0.002866171012954757\n",
            "\n",
            "Epoch 124: train loss: 0.0008186035752533351\n",
            "test loss: 0.002972397623487658\n",
            "\n",
            "Epoch 125: train loss: 0.0009634327134007568\n",
            "test loss: 0.0029508534319434253\n",
            "\n",
            "Epoch 126: train loss: 0.0007887495822784754\n",
            "test loss: 0.004533115393628174\n",
            "\n",
            "Epoch 127: train loss: 0.0008692701153525233\n",
            "test loss: 0.0029626923672532775\n",
            "\n",
            "Epoch 128: train loss: 0.000780574685951095\n",
            "test loss: 0.0029158075459821903\n",
            "\n",
            "Epoch 129: train loss: 0.0007692641185385572\n",
            "test loss: 0.0045303210885455905\n",
            "\n",
            "Epoch 130: train loss: 0.0008032091618449196\n",
            "test loss: 0.0029138401145273\n",
            "\n",
            "Epoch 131: train loss: 0.0007668307636168799\n",
            "test loss: 0.00295687221579253\n",
            "\n",
            "Epoch 132: train loss: 0.0007702358005209701\n",
            "test loss: 0.002981942431522494\n",
            "\n",
            "Epoch 133: train loss: 0.0007709818170564173\n",
            "test loss: 0.002925546096601028\n",
            "\n",
            "Epoch 134: train loss: 0.0007522579761826165\n",
            "test loss: 0.004822926160725633\n",
            "\n",
            "Epoch 135: train loss: 0.0008553919204882521\n",
            "test loss: 0.0029275653548265367\n",
            "\n",
            "Epoch 136: train loss: 0.0007372963677970073\n",
            "test loss: 0.003138874441190905\n",
            "\n",
            "Epoch 137: train loss: 0.00074998000694173\n",
            "test loss: 0.0029987510801404954\n",
            "\n",
            "Epoch 138: train loss: 0.0007325627744193442\n",
            "test loss: 0.0030280021300845635\n",
            "\n",
            "Epoch 139: train loss: 0.0007273263575663896\n",
            "test loss: 0.002970165144082689\n",
            "\n",
            "Epoch 140: train loss: 0.000752244320049473\n",
            "test loss: 0.004546075461195041\n",
            "\n",
            "Epoch 141: train loss: 0.0007243757357012914\n",
            "test loss: 0.0030444033286774023\n",
            "\n",
            "Epoch 142: train loss: 0.0007229136062006671\n",
            "test loss: 0.003199662280203851\n",
            "\n",
            "Epoch 143: train loss: 0.0007273059100291194\n",
            "test loss: 0.003070444173805222\n",
            "\n",
            "Epoch 144: train loss: 0.0014376637689822096\n",
            "test loss: 0.0046425404946136015\n",
            "\n",
            "Epoch 145: train loss: 0.0009418141918748725\n",
            "test loss: 0.0029192372339229265\n",
            "\n",
            "Epoch 146: train loss: 0.0007188670402299783\n",
            "test loss: 0.0031029474896960003\n",
            "\n",
            "Epoch 147: train loss: 0.0006879476300161065\n",
            "test loss: 0.003033734766322024\n",
            "\n",
            "Epoch 148: train loss: 0.0007411790210074059\n",
            "test loss: 0.004535380071068693\n",
            "\n",
            "Epoch 149: train loss: 0.0006977321863453326\n",
            "test loss: 0.0030109443845020008\n",
            "\n"
          ]
        }
      ]
    },
    {
      "cell_type": "code",
      "source": [
        "ma_window = 10\n",
        "\n",
        "plt.plot(np.arange(len(epochs_train_losses)-ma_window + 1)+1, np.convolve(epochs_train_losses, np.ones(ma_window)/ma_window, mode='valid'))\n",
        "plt.plot(np.arange(len(epochs_test_losses)-ma_window + 1)+1, np.convolve(epochs_test_losses, np.ones(ma_window)/ma_window, mode='valid'))\n",
        "plt.xlabel('epoch')\n",
        "plt.ylabel('loss')\n",
        "plt.legend(['train','valid'])"
      ],
      "metadata": {
        "colab": {
          "base_uri": "https://localhost:8080/",
          "height": 467
        },
        "id": "HwAxrsE5kC0g",
        "outputId": "f1056337-99e0-4105-fcb1-e5ebe4934405"
      },
      "execution_count": null,
      "outputs": [
        {
          "output_type": "execute_result",
          "data": {
            "text/plain": [
              "<matplotlib.legend.Legend at 0x7e3b766c7f40>"
            ]
          },
          "metadata": {},
          "execution_count": 25
        },
        {
          "output_type": "display_data",
          "data": {
            "text/plain": [
              "<Figure size 640x480 with 1 Axes>"
            ],
            "image/png": "[encoded data removed]"
          },
          "metadata": {}
        }
      ]
    },
    {
      "cell_type": "code",
      "source": [
        "print(training_execution_time)"
      ],
      "metadata": {
        "colab": {
          "base_uri": "https://localhost:8080/"
        },
        "id": "wOVV56ydkEQe",
        "outputId": "ee58ee29-b253-4f36-ad95-c0709534ea89"
      },
      "execution_count": null,
      "outputs": [
        {
          "output_type": "stream",
          "name": "stdout",
          "text": [
            "1602.2623150348663\n"
          ]
        }
      ]
    },
    {
      "cell_type": "code",
      "source": [
        "start_time=time.time()\n",
        "predictions_test = model(x_test.to(DEVICE))\n",
        "prediction_execution_time = time.time()-start_time\n",
        "predictions_train = model(x_train.to(DEVICE))\n",
        "print(\"Predictions took\", prediction_execution_time,\"seconds.\")"
      ],
      "metadata": {
        "colab": {
          "base_uri": "https://localhost:8080/"
        },
        "id": "sNxWokbykIey",
        "outputId": "f11acb5a-c216-475c-db2e-915318a09c25"
      },
      "execution_count": null,
      "outputs": [
        {
          "output_type": "stream",
          "name": "stdout",
          "text": [
            "Predictions took 0.9712796211242676 seconds.\n"
          ]
        }
      ]
    },
    {
      "cell_type": "code",
      "source": [
        "def performance_assessment(predictions_df, output_feature='Class',\n",
        "                           prediction_feature='predictions', top_k_list=[100],\n",
        "                           rounded=True):\n",
        "\n",
        "    AUC_ROC = metrics.roc_auc_score(predictions_df[output_feature], predictions_df[prediction_feature])\n",
        "    AP = metrics.average_precision_score(predictions_df[output_feature], predictions_df[prediction_feature])\n",
        "\n",
        "    performances = pd.DataFrame([[AUC_ROC, AP]],\n",
        "                           columns=['AUC ROC','Average precision'])\n",
        "    for top_k in top_k_list:\n",
        "\n",
        "        _, _, mean_card_precision_top_k = card_precision_top_k(predictions_df, top_k)\n",
        "        performances['Card Precision@'+str(top_k)]=mean_card_precision_top_k\n",
        "    if rounded:\n",
        "        performances = performances.round(3)\n",
        "    return performances\n",
        "\n",
        "def performance_assessment_model_collection(fitted_models_and_predictions_dictionary,\n",
        "                                            transactions_df,\n",
        "                                            type_set='test',\n",
        "                                            top_k_list=[100]):\n",
        "    performances=pd.DataFrame()\n",
        "\n",
        "    for classifier_name, model_and_predictions in fitted_models_and_predictions_dictionary.items():\n",
        "        predictions_df=transactions_df\n",
        "        predictions_df['predictions']=model_and_predictions['predictions_'+type_set]\n",
        "        performances_model=performance_assessment(predictions_df, output_feature='Class',                                                   prediction_feature='predictions', top_k_list=top_k_list)\n",
        "        performances_model.index=[classifier_name]\n",
        "        performances=performances.append(performances_model)\n",
        "\n",
        "    return performances"
      ],
      "metadata": {
        "id": "Q8V31zYIXOpL"
      },
      "execution_count": null,
      "outputs": []
    },
    {
      "cell_type": "code",
      "source": [
        "!pip install my_module"
      ],
      "metadata": {
        "colab": {
          "base_uri": "https://localhost:8080/"
        },
        "id": "PIkiaFWcYE5c",
        "outputId": "42963c88-1168-4a78-ef88-c673e112722b"
      },
      "execution_count": null,
      "outputs": [
        {
          "output_type": "stream",
          "name": "stdout",
          "text": [
            "Collecting my_module\n",
            "  Downloading my_module-1.6.2.zip (967 bytes)\n",
            "  Preparing metadata (setup.py) ... \u001b[?25l\u001b[?25hdone\n",
            "Building wheels for collected packages: my_module\n",
            "  Building wheel for my_module (setup.py) ... \u001b[?25l\u001b[?25hdone\n",
            "  Created wheel for my_module: filename=my_module-1.6.2-py3-none-any.whl size=1404 sha256=f8584ba207128d337d6442f9a21e30a2e12e99797938d198c8b9e4056dbdb69c\n",
            "  Stored in directory: /root/.cache/pip/wheels/ea/6f/99/8a43d4d21ab49e14293e432ea3587ec33b41e6685c86f82a88\n",
            "Successfully built my_module\n",
            "Installing collected packages: my_module\n",
            "Successfully installed my_module-1.6.2\n"
          ]
        }
      ]
    },
    {
      "cell_type": "code",
      "source": [
        "def card_precision_top_k(predictions_df, k):\n",
        "    top_k_preds = predictions_df.nlargest(k, 'predictions')\n",
        "    precision_at_k = (top_k_preds['Class'] == 1).sum() / k\n",
        "    recall_at_k = (top_k_preds['Class'] == 1).sum() / (predictions_df['Class'] == 1).sum()\n",
        "    f1_at_k = 2 * (precision_at_k * recall_at_k) / (precision_at_k + recall_at_k) if (precision_at_k + recall_at_k) > 0 else 0\n",
        "    return precision_at_k, recall_at_k, f1_at_k"
      ],
      "metadata": {
        "id": "y8VcHiCwYzXO"
      },
      "execution_count": null,
      "outputs": []
    },
    {
      "cell_type": "code",
      "source": [
        "predictions_df = df.loc[X_test.index].copy()\n",
        "predictions_df['predictions'] = predictions_test.detach().cpu().numpy()\n",
        "\n",
        "performance_assessment(predictions_df, output_feature='Class', prediction_feature='predictions', top_k_list=[100])"
      ],
      "metadata": {
        "colab": {
          "base_uri": "https://localhost:8080/",
          "height": 81
        },
        "id": "Zy_a8NZnWn8J",
        "outputId": "8d539b0a-e639-4e8d-ac3e-a343566e26b8"
      },
      "execution_count": null,
      "outputs": [
        {
          "output_type": "execute_result",
          "data": {
            "text/plain": [
              "   AUC ROC  Average precision  Card Precision@100\n",
              "0    0.977              0.849               0.828"
            ],
            "text/html": [
              "\n",
              "  <div id=\"df-8f139cd5-01cc-4c7a-8572-7bdc525ac87b\" class=\"colab-df-container\">\n",
              "    <div>\n",
              "<style scoped>\n",
              "    .dataframe tbody tr th:only-of-type {\n",
              "        vertical-align: middle;\n",
              "    }\n",
              "\n",
              "    .dataframe tbody tr th {\n",
              "        vertical-align: top;\n",
              "    }\n",
              "\n",
              "    .dataframe thead th {\n",
              "        text-align: right;\n",
              "    }\n",
              "</style>\n",
              "<table border=\"1\" class=\"dataframe\">\n",
              "  <thead>\n",
              "    <tr style=\"text-align: right;\">\n",
              "      <th></th>\n",
              "      <th>AUC ROC</th>\n",
              "      <th>Average precision</th>\n",
              "      <th>Card Precision@100</th>\n",
              "    </tr>\n",
              "  </thead>\n",
              "  <tbody>\n",
              "    <tr>\n",
              "      <th>0</th>\n",
              "      <td>0.977</td>\n",
              "      <td>0.849</td>\n",
              "      <td>0.828</td>\n",
              "    </tr>\n",
              "  </tbody>\n",
              "</table>\n",
              "</div>\n",
              "    <div class=\"colab-df-buttons\">\n",
              "\n",
              "  <div class=\"colab-df-container\">\n",
              "    <button class=\"colab-df-convert\" onclick=\"convertToInteractive('df-8f139cd5-01cc-4c7a-8572-7bdc525ac87b')\"\n",
              "            title=\"Convert this dataframe to an interactive table.\"\n",
              "            style=\"display:none;\">\n",
              "\n",
              "  <svg xmlns=\"http://www.w3.org/2000/svg\" height=\"24px\" viewBox=\"0 -960 960 960\">\n",
              "    <path d=\"M120-120v-720h720v720H120Zm60-500h600v-160H180v160Zm220 220h160v-160H400v160Zm0 220h160v-160H400v160ZM180-400h160v-160H180v160Zm440 0h160v-160H620v160ZM180-180h160v-160H180v160Zm440 0h160v-160H620v160Z\"/>\n",
              "  </svg>\n",
              "    </button>\n",
              "\n",
              "  <style>\n",
              "    .colab-df-container {\n",
              "      display:flex;\n",
              "      gap: 12px;\n",
              "    }\n",
              "\n",
              "    .colab-df-convert {\n",
              "      background-color: #E8F0FE;\n",
              "      border: none;\n",
              "      border-radius: 50%;\n",
              "      cursor: pointer;\n",
              "      display: none;\n",
              "      fill: #1967D2;\n",
              "      height: 32px;\n",
              "      padding: 0 0 0 0;\n",
              "      width: 32px;\n",
              "    }\n",
              "\n",
              "    .colab-df-convert:hover {\n",
              "      background-color: #E2EBFA;\n",
              "      box-shadow: 0px 1px 2px rgba(60, 64, 67, 0.3), 0px 1px 3px 1px rgba(60, 64, 67, 0.15);\n",
              "      fill: #174EA6;\n",
              "    }\n",
              "\n",
              "    .colab-df-buttons div {\n",
              "      margin-bottom: 4px;\n",
              "    }\n",
              "\n",
              "    [theme=dark] .colab-df-convert {\n",
              "      background-color: #3B4455;\n",
              "      fill: #D2E3FC;\n",
              "    }\n",
              "\n",
              "    [theme=dark] .colab-df-convert:hover {\n",
              "      background-color: #434B5C;\n",
              "      box-shadow: 0px 1px 3px 1px rgba(0, 0, 0, 0.15);\n",
              "      filter: drop-shadow(0px 1px 2px rgba(0, 0, 0, 0.3));\n",
              "      fill: #FFFFFF;\n",
              "    }\n",
              "  </style>\n",
              "\n",
              "    <script>\n",
              "      const buttonEl =\n",
              "        document.querySelector('#df-8f139cd5-01cc-4c7a-8572-7bdc525ac87b button.colab-df-convert');\n",
              "      buttonEl.style.display =\n",
              "        google.colab.kernel.accessAllowed ? 'block' : 'none';\n",
              "\n",
              "      async function convertToInteractive(key) {\n",
              "        const element = document.querySelector('#df-8f139cd5-01cc-4c7a-8572-7bdc525ac87b');\n",
              "        const dataTable =\n",
              "          await google.colab.kernel.invokeFunction('convertToInteractive',\n",
              "                                                    [key], {});\n",
              "        if (!dataTable) return;\n",
              "\n",
              "        const docLinkHtml = 'Like what you see? Visit the ' +\n",
              "          '<a target=\"_blank\" href=https://colab.research.google.com/notebooks/data_table.ipynb>data table notebook</a>'\n",
              "          + ' to learn more about interactive tables.';\n",
              "        element.innerHTML = '';\n",
              "        dataTable['output_type'] = 'display_data';\n",
              "        await google.colab.output.renderOutput(dataTable, element);\n",
              "        const docLink = document.createElement('div');\n",
              "        docLink.innerHTML = docLinkHtml;\n",
              "        element.appendChild(docLink);\n",
              "      }\n",
              "    </script>\n",
              "  </div>\n",
              "\n",
              "\n",
              "    </div>\n",
              "  </div>\n"
            ],
            "application/vnd.google.colaboratory.intrinsic+json": {
              "type": "dataframe",
              "summary": "{\n  \"name\": \"performance_assessment(predictions_df, output_feature='Class', prediction_feature='predictions', top_k_list=[100])\",\n  \"rows\": 1,\n  \"fields\": [\n    {\n      \"column\": \"AUC ROC\",\n      \"properties\": {\n        \"dtype\": \"number\",\n        \"std\": null,\n        \"min\": 0.977,\n        \"max\": 0.977,\n        \"num_unique_values\": 1,\n        \"samples\": [\n          0.977\n        ],\n        \"semantic_type\": \"\",\n        \"description\": \"\"\n      }\n    },\n    {\n      \"column\": \"Average precision\",\n      \"properties\": {\n        \"dtype\": \"number\",\n        \"std\": null,\n        \"min\": 0.849,\n        \"max\": 0.849,\n        \"num_unique_values\": 1,\n        \"samples\": [\n          0.849\n        ],\n        \"semantic_type\": \"\",\n        \"description\": \"\"\n      }\n    },\n    {\n      \"column\": \"Card Precision@100\",\n      \"properties\": {\n        \"dtype\": \"number\",\n        \"std\": null,\n        \"min\": 0.828,\n        \"max\": 0.828,\n        \"num_unique_values\": 1,\n        \"samples\": [\n          0.828\n        ],\n        \"semantic_type\": \"\",\n        \"description\": \"\"\n      }\n    }\n  ]\n}"
            }
          },
          "metadata": {},
          "execution_count": 31
        }
      ]
    },
    {
      "cell_type": "markdown",
      "source": [
        "As the first shot, the perfomance is very decent. To prevent the overfitting, below is applied:"
      ],
      "metadata": {
        "id": "5BFYFRxs4e8T"
      }
    },
    {
      "cell_type": "code",
      "source": [
        "class EarlyStopping:\n",
        "\n",
        "    def __init__(self, patience=2, verbose=False):\n",
        "        self.patience = patience\n",
        "        self.verbose = verbose\n",
        "        self.counter = 0\n",
        "        self.best_score = np.Inf\n",
        "\n",
        "    def continue_training(self,current_score):\n",
        "        if self.best_score > current_score:\n",
        "            self.best_score = current_score\n",
        "            self.counter = 0\n",
        "            if self.verbose:\n",
        "                print(\"New best score:\", current_score)\n",
        "        else:\n",
        "            self.counter+=1\n",
        "            if self.verbose:\n",
        "                print(self.counter, \" iterations since best score.\")\n",
        "\n",
        "        return self.counter <= self.patience"
      ],
      "metadata": {
        "id": "2a-oYrE4d3bb"
      },
      "execution_count": null,
      "outputs": []
    },
    {
      "cell_type": "code",
      "source": [
        "from sklearn.model_selection import train_test_split\n",
        "from sklearn.preprocessing import StandardScaler\n",
        "import pandas as pd\n",
        "import numpy as np\n",
        "from imblearn.over_sampling import SMOTE\n",
        "\n",
        "input_features = ['V' + str(i) for i in range(1, 29)] + ['Time', 'Amount']\n",
        "output_feature = 'Class'\n",
        "\n",
        "X = df[input_features]\n",
        "y = df[output_feature]\n",
        "X_train, X_valid, y_train, y_valid = train_test_split(X, y, test_size=0.2, random_state=42, stratify=y)\n",
        "\n",
        "smote = SMOTE(random_state=42)\n",
        "X_train_smote, y_train_smote = smote.fit_resample(X_train, y_train)\n",
        "\n",
        "scaler = StandardScaler()\n",
        "features_to_scale = ['Time', 'Amount'] if 'Time' in df.columns and 'Amount' in df.columns else ['Amount']\n",
        "X_train_smote[features_to_scale] = scaler.fit_transform(X_train_smote[features_to_scale])\n",
        "X_valid[features_to_scale] = scaler.transform(X_valid[features_to_scale])\n",
        "\n",
        "train_df = pd.concat([X_train_smote, y_train_smote], axis=1)\n",
        "valid_df = pd.concat([X_valid, y_valid], axis=1)"
      ],
      "metadata": {
        "id": "8e1pWEoR6i-H"
      },
      "execution_count": null,
      "outputs": []
    },
    {
      "cell_type": "code",
      "source": [
        "seed_everything(SEED)\n",
        "\n",
        "model = SimpleFraudMLP(len(input_features), 1000).to(DEVICE)\n",
        "\n",
        "def prepare_generators(train_df,valid_df,batch_size=64):\n",
        "    x_train = torch.FloatTensor(train_df[input_features].values)\n",
        "    x_valid = torch.FloatTensor(valid_df[input_features].values)\n",
        "    y_train = torch.FloatTensor(train_df[output_feature].values)\n",
        "    y_valid = torch.FloatTensor(valid_df[output_feature].values)\n",
        "    train_loader_params = {'batch_size': batch_size,\n",
        "              'shuffle': True,\n",
        "              'num_workers': 0}\n",
        "    valid_loader_params = {'batch_size': batch_size,\n",
        "              'num_workers': 0}\n",
        "\n",
        "    training_set = FraudDataset(x_train, y_train)\n",
        "    valid_set = FraudDataset(x_valid, y_valid)\n",
        "\n",
        "    training_generator = torch.utils.data.DataLoader(training_set, **train_loader_params)\n",
        "    valid_generator = torch.utils.data.DataLoader(valid_set, **valid_loader_params)\n",
        "\n",
        "    return training_generator,valid_generator\n",
        "\n",
        "training_generator,valid_generator = prepare_generators(train_df,valid_df,batch_size=64)\n",
        "\n",
        "criterion = torch.nn.BCELoss().to(DEVICE)\n",
        "optimizer = torch.optim.SGD(model.parameters(), lr = 0.0005)"
      ],
      "metadata": {
        "id": "_LT6_NtmkOeK"
      },
      "execution_count": null,
      "outputs": []
    },
    {
      "cell_type": "code",
      "source": [
        "def training_loop(model,training_generator,valid_generator,optimizer,criterion,max_epochs=100,apply_early_stopping=True,patience=2,verbose=False):\n",
        "    model.train()\n",
        "\n",
        "    if apply_early_stopping:\n",
        "        early_stopping = EarlyStopping(verbose=verbose,patience=patience)\n",
        "\n",
        "    all_train_losses = []\n",
        "    all_valid_losses = []\n",
        "    start_time=time.time()\n",
        "    for epoch in range(max_epochs):\n",
        "        model.train()\n",
        "        train_loss=[]\n",
        "        for x_batch, y_batch in training_generator:\n",
        "            optimizer.zero_grad()\n",
        "            y_pred = model(x_batch)\n",
        "            loss = criterion(y_pred.squeeze(), y_batch)\n",
        "            loss.backward()\n",
        "            optimizer.step()\n",
        "            train_loss.append(loss.item())\n",
        "        all_train_losses.append(np.mean(train_loss))\n",
        "        if verbose:\n",
        "            print('')\n",
        "            print('Epoch {}: train loss: {}'.format(epoch, np.mean(train_loss)))\n",
        "        valid_loss = evaluate_model(model,valid_generator,criterion)\n",
        "        all_valid_losses.append(valid_loss)\n",
        "        if verbose:\n",
        "            print('valid loss: {}'.format(valid_loss))\n",
        "        if apply_early_stopping:\n",
        "            if not early_stopping.continue_training(valid_loss):\n",
        "                if verbose:\n",
        "                    print(\"Early stopping\")\n",
        "                break\n",
        "\n",
        "    training_execution_time=time.time()-start_time\n",
        "    return model,training_execution_time,all_train_losses,all_valid_losses\n",
        "\n",
        "model,training_execution_time,train_losses,valid_losses = training_loop(model,training_generator,valid_generator,optimizer,criterion,max_epochs=500,verbose=True)"
      ],
      "metadata": {
        "colab": {
          "base_uri": "https://localhost:8080/"
        },
        "id": "j12axE5dkPwr",
        "outputId": "ab5d2d64-f0b3-4126-ac86-5b39d624121a"
      },
      "execution_count": null,
      "outputs": [
        {
          "output_type": "stream",
          "name": "stdout",
          "text": [
            "\n",
            "Epoch 0: train loss: 0.31170539305703837\n",
            "valid loss: 0.16926880550036721\n",
            "New best score: 0.16926880550036721\n",
            "\n",
            "Epoch 1: train loss: 0.1729170404525891\n",
            "valid loss: 0.16945668663744426\n",
            "1  iterations since best score.\n",
            "\n",
            "Epoch 2: train loss: 0.17290850095140925\n",
            "valid loss: 0.16959163093586727\n",
            "2  iterations since best score.\n",
            "\n",
            "Epoch 3: train loss: 0.17290392579314084\n",
            "valid loss: 0.1696978681226953\n",
            "3  iterations since best score.\n",
            "Early stopping\n"
          ]
        }
      ]
    },
    {
      "cell_type": "code",
      "source": [
        "seed_everything(SEED)\n",
        "model = SimpleFraudMLP(len(input_features), 1000).to(DEVICE) #1000 neurons\n",
        "optimizer = torch.optim.Adam(model.parameters(), lr = 0.0005)\n",
        "model,training_execution_time,train_losses_adam,valid_losses_adam = training_loop(model,training_generator,valid_generator,optimizer,criterion,verbose=True)"
      ],
      "metadata": {
        "colab": {
          "base_uri": "https://localhost:8080/"
        },
        "id": "bfNgsxGukS7S",
        "outputId": "f6af2f02-8f04-47a6-e01d-0834943c9e79"
      },
      "execution_count": null,
      "outputs": [
        {
          "output_type": "stream",
          "name": "stdout",
          "text": [
            "\n",
            "Epoch 0: train loss: 0.33971431138537733\n",
            "valid loss: 0.17185791651460158\n",
            "New best score: 0.17185791651460158\n",
            "\n",
            "Epoch 1: train loss: 0.17287999254455788\n",
            "valid loss: 0.1718574874801087\n",
            "New best score: 0.1718574874801087\n",
            "\n",
            "Epoch 2: train loss: 0.17287981613827177\n",
            "valid loss: 0.17185747017611966\n",
            "New best score: 0.17185747017611966\n",
            "\n",
            "Epoch 3: train loss: 0.17287981112949122\n",
            "valid loss: 0.1718574652556759\n",
            "New best score: 0.1718574652556759\n",
            "\n",
            "Epoch 4: train loss: 0.17287980952594623\n",
            "valid loss: 0.17185746372498414\n",
            "New best score: 0.17185746372498414\n",
            "\n",
            "Epoch 5: train loss: 0.17287980911949097\n",
            "valid loss: 0.1718574636357782\n",
            "New best score: 0.1718574636357782\n",
            "\n",
            "Epoch 6: train loss: 0.17287980904852604\n",
            "valid loss: 0.1718574635833544\n",
            "New best score: 0.1718574635833544\n",
            "\n",
            "Epoch 7: train loss: 0.17287980906066003\n",
            "valid loss: 0.17185746356047302\n",
            "New best score: 0.17185746356047302\n",
            "\n",
            "Epoch 8: train loss: 0.17287980905390085\n",
            "valid loss: 0.17185746354881706\n",
            "New best score: 0.17185746354881706\n",
            "\n",
            "Epoch 9: train loss: 0.17287980905032027\n",
            "valid loss: 0.1718574635422836\n",
            "New best score: 0.1718574635422836\n",
            "\n",
            "Epoch 10: train loss: 0.17287980904834258\n",
            "valid loss: 0.17185746353843728\n",
            "New best score: 0.17185746353843728\n",
            "\n",
            "Epoch 11: train loss: 0.1728798090471411\n",
            "valid loss: 0.1718574635359408\n",
            "New best score: 0.1718574635359408\n",
            "\n",
            "Epoch 12: train loss: 0.1728798090463489\n",
            "valid loss: 0.17185746353418171\n",
            "New best score: 0.17185746353418171\n",
            "\n",
            "Epoch 13: train loss: 0.17287980904579273\n",
            "valid loss: 0.1718574635328995\n",
            "New best score: 0.1718574635328995\n",
            "\n",
            "Epoch 14: train loss: 0.17287980904518424\n",
            "valid loss: 0.1718574635319513\n",
            "New best score: 0.1718574635319513\n",
            "\n",
            "Epoch 15: train loss: 0.1728798090450578\n",
            "valid loss: 0.1718574635311276\n",
            "New best score: 0.1718574635311276\n",
            "\n",
            "Epoch 16: train loss: 0.1728798090447945\n",
            "valid loss: 0.17185746353048723\n",
            "New best score: 0.17185746353048723\n",
            "\n",
            "Epoch 17: train loss: 0.1728798090445815\n",
            "valid loss: 0.17185746352995487\n",
            "New best score: 0.17185746352995487\n",
            "\n",
            "Epoch 18: train loss: 0.17287980904428155\n",
            "valid loss: 0.1718574635295037\n",
            "New best score: 0.1718574635295037\n",
            "\n",
            "Epoch 19: train loss: 0.1728798090442532\n",
            "valid loss: 0.17185746352911727\n",
            "New best score: 0.17185746352911727\n",
            "\n",
            "Epoch 20: train loss: 0.17287980904406566\n",
            "valid loss: 0.17185746352878492\n",
            "New best score: 0.17185746352878492\n",
            "\n",
            "Epoch 21: train loss: 0.17287980904401187\n",
            "valid loss: 0.17185746352849418\n",
            "New best score: 0.17185746352849418\n",
            "\n",
            "Epoch 22: train loss: 0.1728798090438314\n",
            "valid loss: 0.17185746352823691\n",
            "New best score: 0.17185746352823691\n",
            "\n",
            "Epoch 23: train loss: 0.17287980904382655\n",
            "valid loss: 0.17185746352800807\n",
            "New best score: 0.17185746352800807\n",
            "\n",
            "Epoch 24: train loss: 0.17287980904374917\n",
            "valid loss: 0.1718574635278039\n",
            "New best score: 0.1718574635278039\n",
            "\n",
            "Epoch 25: train loss: 0.1728798090436798\n",
            "valid loss: 0.17185746352762057\n",
            "New best score: 0.17185746352762057\n",
            "\n",
            "Epoch 26: train loss: 0.17287980904361752\n",
            "valid loss: 0.17185746352745482\n",
            "New best score: 0.17185746352745482\n",
            "\n",
            "Epoch 27: train loss: 0.17287980904356073\n",
            "valid loss: 0.171857463527304\n",
            "New best score: 0.171857463527304\n",
            "\n",
            "Epoch 28: train loss: 0.17287980904350872\n",
            "valid loss: 0.171857463527166\n",
            "New best score: 0.171857463527166\n",
            "\n",
            "Epoch 29: train loss: 0.17287980904346184\n",
            "valid loss: 0.17185746352703973\n",
            "New best score: 0.17185746352703973\n",
            "\n",
            "Epoch 30: train loss: 0.17287980904341854\n",
            "valid loss: 0.17185746352692335\n",
            "New best score: 0.17185746352692335\n",
            "\n",
            "Epoch 31: train loss: 0.17287980904337866\n",
            "valid loss: 0.17185746352681625\n",
            "New best score: 0.17185746352681625\n",
            "\n",
            "Epoch 32: train loss: 0.17287980904334177\n",
            "valid loss: 0.17185746352671671\n",
            "New best score: 0.17185746352671671\n",
            "\n",
            "Epoch 33: train loss: 0.1728798090433076\n",
            "valid loss: 0.17185746352662457\n",
            "New best score: 0.17185746352662457\n",
            "\n",
            "Epoch 34: train loss: 0.1728798090432758\n",
            "valid loss: 0.17185746352653858\n",
            "New best score: 0.17185746352653858\n",
            "\n",
            "Epoch 35: train loss: 0.1728798090424655\n",
            "valid loss: 0.17185746352645848\n",
            "New best score: 0.17185746352645848\n",
            "\n",
            "Epoch 36: train loss: 0.17287980904318298\n",
            "valid loss: 0.17185746352638342\n",
            "New best score: 0.17185746352638342\n",
            "\n",
            "Epoch 37: train loss: 0.1728798090431926\n",
            "valid loss: 0.17185746352631298\n",
            "New best score: 0.17185746352631298\n",
            "\n",
            "Epoch 38: train loss: 0.17287980904314557\n",
            "valid loss: 0.17185746352624692\n",
            "New best score: 0.17185746352624692\n",
            "\n",
            "Epoch 39: train loss: 0.1728798090424565\n",
            "valid loss: 0.1718574635261848\n",
            "New best score: 0.1718574635261848\n",
            "\n",
            "Epoch 40: train loss: 0.17287980904310243\n",
            "valid loss: 0.17185746352612621\n",
            "New best score: 0.17185746352612621\n",
            "\n",
            "Epoch 41: train loss: 0.1728798090431036\n",
            "valid loss: 0.1718574635260708\n",
            "New best score: 0.1718574635260708\n",
            "\n",
            "Epoch 42: train loss: 0.17287980904308425\n",
            "valid loss: 0.17185746352601833\n",
            "New best score: 0.17185746352601833\n",
            "\n",
            "Epoch 43: train loss: 0.1728798090430662\n",
            "valid loss: 0.17185746352596873\n",
            "New best score: 0.17185746352596873\n",
            "\n",
            "Epoch 44: train loss: 0.1728798090430303\n",
            "valid loss: 0.17185746352592163\n",
            "New best score: 0.17185746352592163\n",
            "\n",
            "Epoch 45: train loss: 0.1728798090424468\n",
            "valid loss: 0.17185746352587689\n",
            "New best score: 0.17185746352587689\n",
            "\n",
            "Epoch 46: train loss: 0.17287980904299938\n",
            "valid loss: 0.17185746352583434\n",
            "New best score: 0.17185746352583434\n",
            "\n",
            "Epoch 47: train loss: 0.17287980904300226\n",
            "valid loss: 0.171857463525809\n",
            "New best score: 0.171857463525809\n",
            "\n",
            "Epoch 48: train loss: 0.17287980904244404\n",
            "valid loss: 0.17185746352575507\n",
            "New best score: 0.17185746352575507\n",
            "\n",
            "Epoch 49: train loss: 0.1728798090429747\n",
            "valid loss: 0.17185746352571818\n",
            "New best score: 0.17185746352571818\n",
            "\n",
            "Epoch 50: train loss: 0.17287980904296185\n",
            "valid loss: 0.17185746352568285\n",
            "New best score: 0.17185746352568285\n",
            "\n",
            "Epoch 51: train loss: 0.17287980904294956\n",
            "valid loss: 0.1718574635256491\n",
            "New best score: 0.1718574635256491\n",
            "\n",
            "Epoch 52: train loss: 0.17287980904292266\n",
            "valid loss: 0.1718574635256168\n",
            "New best score: 0.1718574635256168\n",
            "\n",
            "Epoch 53: train loss: 0.17287980904292644\n",
            "valid loss: 0.17185746352558584\n",
            "New best score: 0.17185746352558584\n",
            "\n",
            "Epoch 54: train loss: 0.1728798090429014\n",
            "valid loss: 0.17185746352555617\n",
            "New best score: 0.17185746352555617\n",
            "\n",
            "Epoch 55: train loss: 0.17287980904242242\n",
            "valid loss: 0.17185746352552767\n",
            "New best score: 0.17185746352552767\n",
            "\n",
            "Epoch 56: train loss: 0.17287980904289535\n",
            "valid loss: 0.17185746352550027\n",
            "New best score: 0.17185746352550027\n",
            "\n",
            "Epoch 57: train loss: 0.17287980904288586\n",
            "valid loss: 0.17185746352547396\n",
            "New best score: 0.17185746352547396\n",
            "\n",
            "Epoch 58: train loss: 0.17287980904287667\n",
            "valid loss: 0.1718574635254486\n",
            "New best score: 0.1718574635254486\n",
            "\n",
            "Epoch 59: train loss: 0.1728798090428678\n",
            "valid loss: 0.17185746352542416\n",
            "New best score: 0.17185746352542416\n",
            "\n",
            "Epoch 60: train loss: 0.17287980904285927\n",
            "valid loss: 0.17185746352540066\n",
            "New best score: 0.17185746352540066\n",
            "\n",
            "Epoch 61: train loss: 0.17287980904285102\n",
            "valid loss: 0.171857463525378\n",
            "New best score: 0.171857463525378\n",
            "\n",
            "Epoch 62: train loss: 0.1728798090428431\n",
            "valid loss: 0.1718574635253653\n",
            "New best score: 0.1718574635253653\n",
            "\n",
            "Epoch 63: train loss: 0.17287980904283545\n",
            "valid loss: 0.17185746352533512\n",
            "New best score: 0.17185746352533512\n",
            "\n",
            "Epoch 64: train loss: 0.172879809042828\n",
            "valid loss: 0.17185746352531453\n",
            "New best score: 0.17185746352531453\n",
            "\n",
            "Epoch 65: train loss: 0.17287980904280628\n",
            "valid loss: 0.17185746352529482\n",
            "New best score: 0.17185746352529482\n",
            "\n",
            "Epoch 66: train loss: 0.172879809042814\n",
            "valid loss: 0.17185746352527567\n",
            "New best score: 0.17185746352527567\n",
            "\n",
            "Epoch 67: train loss: 0.17287980904280734\n",
            "valid loss: 0.17185746352525724\n",
            "New best score: 0.17185746352525724\n",
            "\n",
            "Epoch 68: train loss: 0.17287980904280084\n",
            "valid loss: 0.17185746352523934\n",
            "New best score: 0.17185746352523934\n",
            "\n",
            "Epoch 69: train loss: 0.1728798090427945\n",
            "valid loss: 0.17185746352522202\n",
            "New best score: 0.17185746352522202\n",
            "\n",
            "Epoch 70: train loss: 0.17287980904278852\n",
            "valid loss: 0.17185746352520517\n",
            "New best score: 0.17185746352520517\n",
            "\n",
            "Epoch 71: train loss: 0.17287980904276942\n",
            "valid loss: 0.17185746352518888\n",
            "New best score: 0.17185746352518888\n",
            "\n",
            "Epoch 72: train loss: 0.1728798090427769\n",
            "valid loss: 0.1718574635251731\n",
            "New best score: 0.1718574635251731\n",
            "\n",
            "Epoch 73: train loss: 0.17287980904277134\n",
            "valid loss: 0.17185746352515774\n",
            "New best score: 0.17185746352515774\n",
            "\n",
            "Epoch 74: train loss: 0.17287980904276598\n",
            "valid loss: 0.17185746352514283\n",
            "New best score: 0.17185746352514283\n",
            "\n",
            "Epoch 75: train loss: 0.17287980904276073\n",
            "valid loss: 0.17185746352512837\n",
            "New best score: 0.17185746352512837\n",
            "\n",
            "Epoch 76: train loss: 0.17287980904275568\n",
            "valid loss: 0.1718574635251143\n",
            "New best score: 0.1718574635251143\n",
            "\n",
            "Epoch 77: train loss: 0.17287980904274147\n",
            "valid loss: 0.17185746352510062\n",
            "New best score: 0.17185746352510062\n",
            "\n",
            "Epoch 78: train loss: 0.17287980904274594\n",
            "valid loss: 0.17185746352508732\n",
            "New best score: 0.17185746352508732\n",
            "\n",
            "Epoch 79: train loss: 0.17287980904274128\n",
            "valid loss: 0.17185746352507436\n",
            "New best score: 0.17185746352507436\n",
            "\n",
            "Epoch 80: train loss: 0.17287980904273673\n",
            "valid loss: 0.1718574635250618\n",
            "New best score: 0.1718574635250618\n",
            "\n",
            "Epoch 81: train loss: 0.17287980904242334\n",
            "valid loss: 0.17185746352504952\n",
            "New best score: 0.17185746352504952\n",
            "\n",
            "Epoch 82: train loss: 0.17287980904272798\n",
            "valid loss: 0.17185746352503758\n",
            "New best score: 0.17185746352503758\n",
            "\n",
            "Epoch 83: train loss: 0.17287980904272376\n",
            "valid loss: 0.17185746352502593\n",
            "New best score: 0.17185746352502593\n",
            "\n",
            "Epoch 84: train loss: 0.17287980904271968\n",
            "valid loss: 0.17185746352501458\n",
            "New best score: 0.17185746352501458\n",
            "\n",
            "Epoch 85: train loss: 0.17287980904271574\n",
            "valid loss: 0.1718574635250035\n",
            "New best score: 0.1718574635250035\n",
            "\n",
            "Epoch 86: train loss: 0.17287980904271183\n",
            "valid loss: 0.17185746352499273\n",
            "New best score: 0.17185746352499273\n",
            "\n",
            "Epoch 87: train loss: 0.17287980904240385\n",
            "valid loss: 0.1718574635249822\n",
            "New best score: 0.1718574635249822\n",
            "\n",
            "Epoch 88: train loss: 0.1728798090427043\n",
            "valid loss: 0.17185746352497194\n",
            "New best score: 0.17185746352497194\n",
            "\n",
            "Epoch 89: train loss: 0.17287980904270073\n",
            "valid loss: 0.17185746352496192\n",
            "New best score: 0.17185746352496192\n",
            "\n",
            "Epoch 90: train loss: 0.17287980904269717\n",
            "valid loss: 0.1718574635249521\n",
            "New best score: 0.1718574635249521\n",
            "\n",
            "Epoch 91: train loss: 0.17287980904267697\n",
            "valid loss: 0.17185746352494255\n",
            "New best score: 0.17185746352494255\n",
            "\n",
            "Epoch 92: train loss: 0.17287980904269037\n",
            "valid loss: 0.1718574635249332\n",
            "New best score: 0.1718574635249332\n",
            "\n",
            "Epoch 93: train loss: 0.17287980904267986\n",
            "valid loss: 0.1718574635249241\n",
            "New best score: 0.1718574635249241\n",
            "\n",
            "Epoch 94: train loss: 0.17287980904268388\n",
            "valid loss: 0.17185746352491515\n",
            "New best score: 0.17185746352491515\n",
            "\n",
            "Epoch 95: train loss: 0.1728798090424109\n",
            "valid loss: 0.1718574635249064\n",
            "New best score: 0.1718574635249064\n",
            "\n",
            "Epoch 96: train loss: 0.1728798090426777\n",
            "valid loss: 0.17185746352489786\n",
            "New best score: 0.17185746352489786\n",
            "\n",
            "Epoch 97: train loss: 0.17287980904267472\n",
            "valid loss: 0.1718574635248895\n",
            "New best score: 0.1718574635248895\n",
            "\n",
            "Epoch 98: train loss: 0.1728798090426717\n",
            "valid loss: 0.17185746352488135\n",
            "New best score: 0.17185746352488135\n",
            "\n",
            "Epoch 99: train loss: 0.17287980904266884\n",
            "valid loss: 0.17185746352487336\n",
            "New best score: 0.17185746352487336\n"
          ]
        }
      ]
    },
    {
      "cell_type": "code",
      "source": [
        "plt.subplot(1, 2, 1)\n",
        "plt.plot(np.arange(len(train_losses))+1, train_losses)\n",
        "plt.plot(np.arange(len(valid_losses))+1, valid_losses)\n",
        "plt.title(\"SGD\")\n",
        "plt.xlabel('epoch')\n",
        "plt.ylabel('loss')\n",
        "plt.legend(['train','valid'])\n",
        "plt.ylim([0.16,0.20])\n",
        "plt.subplot(1, 2, 2)\n",
        "plt.plot(np.arange(len(train_losses_adam))+1, train_losses_adam)\n",
        "plt.plot(np.arange(len(valid_losses_adam))+1, valid_losses_adam)\n",
        "plt.title(\"ADAM\")\n",
        "plt.xlabel('epoch')\n",
        "plt.ylabel('loss')\n",
        "plt.legend(['train','valid'])\n",
        "plt.ylim([0.16,0.20])"
      ],
      "metadata": {
        "colab": {
          "base_uri": "https://localhost:8080/",
          "height": 490
        },
        "id": "bFce3mookWgl",
        "outputId": "406f0f08-9e9b-4e16-cd66-07ebe96a8c59"
      },
      "execution_count": null,
      "outputs": [
        {
          "output_type": "execute_result",
          "data": {
            "text/plain": [
              "(0.16, 0.2)"
            ]
          },
          "metadata": {},
          "execution_count": 49
        },
        {
          "output_type": "display_data",
          "data": {
            "text/plain": [
              "<Figure size 640x480 with 2 Axes>"
            ],
            "image/png": "[encoded data removed]"
          },
          "metadata": {}
        }
      ]
    },
    {
      "cell_type": "code",
      "source": [
        "class SimpleFraudMLPWithDropout(torch.nn.Module):\n",
        "\n",
        "        def __init__(self, input_size, hidden_size,p):\n",
        "            super(SimpleFraudMLPWithDropout, self).__init__()\n",
        "            self.input_size = input_size\n",
        "            self.hidden_size  = hidden_size\n",
        "            self.p = p\n",
        "\n",
        "            self.fc1 = torch.nn.Linear(self.input_size, self.hidden_size)\n",
        "            self.relu = torch.nn.ReLU()\n",
        "\n",
        "            self.fc2 = torch.nn.Linear(self.hidden_size, 1)\n",
        "            self.sigmoid = torch.nn.Sigmoid()\n",
        "\n",
        "            self.dropout = torch.nn.Dropout(self.p)\n",
        "\n",
        "        def forward(self, x):\n",
        "\n",
        "            hidden = self.fc1(x)\n",
        "            hidden = self.relu(hidden)\n",
        "\n",
        "            hidden = self.dropout(hidden)\n",
        "\n",
        "            output = self.fc2(hidden)\n",
        "            output = self.sigmoid(output)\n",
        "\n",
        "            return output"
      ],
      "metadata": {
        "id": "cnvvZqI4kZe_"
      },
      "execution_count": null,
      "outputs": []
    },
    {
      "cell_type": "code",
      "source": [
        "seed_everything(SEED)\n",
        "model = SimpleFraudMLPWithDropout(len(input_features), 1000,0.2).to(DEVICE)\n",
        "optimizer = torch.optim.Adam(model.parameters(), lr = 0.0005)\n",
        "model,training_execution_time,train_losses_dropout,valid_losses_dropout = training_loop(model,training_generator,valid_generator,optimizer,criterion,verbose=False)"
      ],
      "metadata": {
        "id": "19aDv3sekayu"
      },
      "execution_count": null,
      "outputs": []
    },
    {
      "cell_type": "code",
      "source": [
        "plt.plot(np.arange(len(train_losses_adam))+1, train_losses_adam)\n",
        "plt.plot(np.arange(len(valid_losses_adam))+1, valid_losses_adam)\n",
        "plt.plot(np.arange(len(train_losses_dropout))+1, train_losses_dropout)\n",
        "plt.plot(np.arange(len(valid_losses_dropout))+1, valid_losses_dropout)\n",
        "plt.title(\"Dropout effect\")\n",
        "plt.xlabel('epoch')\n",
        "plt.ylabel('loss')\n",
        "plt.ylim([0.171,0.174])\n",
        "plt.legend(['train w/o dropout','valid w/o dropout','train w/ dropout','valid w/ dropout'])"
      ],
      "metadata": {
        "colab": {
          "base_uri": "https://localhost:8080/",
          "height": 490
        },
        "id": "vTpz8rDqkbmT",
        "outputId": "64a1dd84-5b81-4e12-f2d6-022b5fb47db6"
      },
      "execution_count": null,
      "outputs": [
        {
          "output_type": "execute_result",
          "data": {
            "text/plain": [
              "<matplotlib.legend.Legend at 0x7e3b9bafb880>"
            ]
          },
          "metadata": {},
          "execution_count": 56
        },
        {
          "output_type": "display_data",
          "data": {
            "text/plain": [
              "<Figure size 640x480 with 1 Axes>"
            ],
            "image/png": "[encoded data removed]"
          },
          "metadata": {}
        }
      ]
    },
    {
      "cell_type": "code",
      "source": [
        "_ = plt.hist(train_df['Amount'].values,bins=20)"
      ],
      "metadata": {
        "colab": {
          "base_uri": "https://localhost:8080/",
          "height": 430
        },
        "id": "X6Z9NcgPkeDF",
        "outputId": "1baaac8e-15d6-4469-f331-e847b0503c4d"
      },
      "execution_count": null,
      "outputs": [
        {
          "output_type": "display_data",
          "data": {
            "text/plain": [
              "<Figure size 640x480 with 1 Axes>"
            ],
            "image/png": "[encoded data removed]"
          },
          "metadata": {}
        }
      ]
    },
    {
      "cell_type": "code",
      "source": [
        "_ = plt.hist(sklearn.preprocessing.StandardScaler().fit_transform(np.log1p(train_df['Amount'].values).reshape(-1, 1)),bins=20)"
      ],
      "metadata": {
        "colab": {
          "base_uri": "https://localhost:8080/",
          "height": 430
        },
        "id": "x7YPxKDMkfuX",
        "outputId": "023bcb5b-d107-4323-eff1-69d0819a666d"
      },
      "execution_count": null,
      "outputs": [
        {
          "output_type": "display_data",
          "data": {
            "text/plain": [
              "<Figure size 640x480 with 1 Axes>"
            ],
            "image/png": "[encoded data removed]"
          },
          "metadata": {}
        }
      ]
    },
    {
      "cell_type": "code",
      "source": [
        "seed_everything(SEED)\n",
        "training_generator,valid_generator = prepare_generators(train_df,valid_df,batch_size=64)\n",
        "\n",
        "model = SimpleFraudMLPWithDropout(len(input_features), 1000,0.2).to(DEVICE)\n",
        "optimizer = torch.optim.Adam(model.parameters(), lr = 0.0001)\n",
        "model,training_execution_time,train_losses_without_scaling,valid_losses_without_scaling = training_loop(model,training_generator,valid_generator,optimizer,criterion,verbose=False)"
      ],
      "metadata": {
        "id": "GzOFtnpckhCG"
      },
      "execution_count": null,
      "outputs": []
    },
    {
      "cell_type": "code",
      "source": [
        "plt.plot(np.arange(len(train_losses_without_scaling))+1, train_losses_without_scaling)\n",
        "plt.plot(np.arange(len(valid_losses_without_scaling))+1, valid_losses_without_scaling)\n",
        "plt.plot(np.arange(len(train_losses_dropout))+1, train_losses_dropout)\n",
        "plt.plot(np.arange(len(valid_losses_dropout))+1, valid_losses_dropout)\n",
        "plt.title('Scaling effect')\n",
        "plt.xlabel('epoch')\n",
        "plt.ylabel('loss')\n",
        "plt.legend(['train w/o scaling','valid w/o scaling','train w/ scaling','valid w/ scaling'])"
      ],
      "metadata": {
        "colab": {
          "base_uri": "https://localhost:8080/",
          "height": 490
        },
        "id": "KiqDMU_CkiEK",
        "outputId": "235cf1e0-9a4d-43ae-8060-db884c69b304"
      },
      "execution_count": null,
      "outputs": [
        {
          "output_type": "execute_result",
          "data": {
            "text/plain": [
              "<matplotlib.legend.Legend at 0x7e3b98087250>"
            ]
          },
          "metadata": {},
          "execution_count": 60
        },
        {
          "output_type": "display_data",
          "data": {
            "text/plain": [
              "<Figure size 640x480 with 1 Axes>"
            ],
            "image/png": "[encoded data removed]"
          },
          "metadata": {}
        }
      ]
    },
    {
      "cell_type": "markdown",
      "source": [
        "NN Classifier"
      ],
      "metadata": {
        "id": "5iF5oMQFgrWi"
      }
    },
    {
      "cell_type": "code",
      "source": [
        "!pip install skorch"
      ],
      "metadata": {
        "id": "-EEf_ZN2kwol",
        "colab": {
          "base_uri": "https://localhost:8080/"
        },
        "outputId": "1aa9ce86-32b4-4523-c80a-5376b822fc0b"
      },
      "execution_count": null,
      "outputs": [
        {
          "output_type": "stream",
          "name": "stdout",
          "text": [
            "Collecting skorch\n",
            "  Downloading skorch-0.15.0-py3-none-any.whl (239 kB)\n",
            "\u001b[2K     \u001b[90m━━━━━━━━━━━━━━━━━━━━━━━━━━━━━━━━━━━━━━━━\u001b[0m \u001b[32m239.3/239.3 kB\u001b[0m \u001b[31m2.4 MB/s\u001b[0m eta \u001b[36m0:00:00\u001b[0m\n",
            "\u001b[?25hRequirement already satisfied: numpy>=1.13.3 in /usr/local/lib/python3.10/dist-packages (from skorch) (1.25.2)\n",
            "Requirement already satisfied: scikit-learn>=0.22.0 in /usr/local/lib/python3.10/dist-packages (from skorch) (1.2.2)\n",
            "Requirement already satisfied: scipy>=1.1.0 in /usr/local/lib/python3.10/dist-packages (from skorch) (1.11.4)\n",
            "Requirement already satisfied: tabulate>=0.7.7 in /usr/local/lib/python3.10/dist-packages (from skorch) (0.9.0)\n",
            "Requirement already satisfied: tqdm>=4.14.0 in /usr/local/lib/python3.10/dist-packages (from skorch) (4.66.2)\n",
            "Requirement already satisfied: joblib>=1.1.1 in /usr/local/lib/python3.10/dist-packages (from scikit-learn>=0.22.0->skorch) (1.4.0)\n",
            "Requirement already satisfied: threadpoolctl>=2.0.0 in /usr/local/lib/python3.10/dist-packages (from scikit-learn>=0.22.0->skorch) (3.4.0)\n",
            "Installing collected packages: skorch\n",
            "Successfully installed skorch-0.15.0\n"
          ]
        }
      ]
    },
    {
      "cell_type": "code",
      "source": [
        "from skorch import NeuralNetClassifier"
      ],
      "metadata": {
        "id": "SSEynemSkx5F"
      },
      "execution_count": null,
      "outputs": []
    },
    {
      "cell_type": "code",
      "source": [
        "net = NeuralNetClassifier(\n",
        "    FraudMLP,\n",
        "    max_epochs=2,\n",
        "    lr=0.001,\n",
        "    optimizer=torch.optim.Adam,\n",
        "    batch_size=64,\n",
        "    dataset=FraudDatasetForPipe,\n",
        "    iterator_train__shuffle=True\n",
        ")\n",
        "net.set_params(train_split=False, verbose=0)"
      ],
      "metadata": {
        "id": "LfGLInkgk1xX",
        "colab": {
          "base_uri": "https://localhost:8080/"
        },
        "outputId": "cbf71029-6c65-4561-a452-345b0a426d7b"
      },
      "execution_count": null,
      "outputs": [
        {
          "output_type": "execute_result",
          "data": {
            "text/plain": [
              "<class 'skorch.classifier.NeuralNetClassifier'>[uninitialized](\n",
              "  module=<class '__main__.FraudMLP'>,\n",
              ")"
            ]
          },
          "metadata": {},
          "execution_count": 72
        }
      ]
    }
  ]
}